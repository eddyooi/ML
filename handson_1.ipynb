{
 "cells": [
  {
   "cell_type": "markdown",
   "id": "ca5b1ac6",
   "metadata": {
    "colab_type": "text",
    "id": "view-in-github"
   },
   "source": [
    "<a href=\"https://colab.research.google.com/github/wooihaw/ai_with_python_2025/blob/main/handson_1.ipynb\" target=\"_parent\"><img src=\"https://colab.research.google.com/assets/colab-badge.svg\" alt=\"Open In Colab\"/></a>"
   ]
  },
  {
   "cell_type": "markdown",
   "id": "1ba745d7-68de-4b0b-a9ac-9fff4733e986",
   "metadata": {
    "id": "b98e1f4a-fbec-441e-b775-3f906ef6c67b"
   },
   "source": [
    "## Hands-on 1\n",
    "#### This hands-on provides a quick introduction to Python"
   ]
  },
  {
   "cell_type": "markdown",
   "id": "8c36b1f0-5e30-486a-bdfe-cb95e8b73591",
   "metadata": {
    "id": "b0936187-a333-4fc1-bce1-b28f4168312b"
   },
   "source": [
    "### Task 1\n",
    "Write a program to solve a classic puzzle: There are 35 heads and 94 legs among the chickens and rabbits in a farm. How many rabbits and how many chickens do we have?"
   ]
  },
  {
   "cell_type": "code",
   "execution_count": 3,
   "id": "b95fda63-a93a-469a-b552-2a57ea00d7a6",
   "metadata": {
    "id": "f5037a5d-3c28-4e5e-b51f-7351bad3eea8"
   },
   "outputs": [
    {
     "name": "stdout",
     "output_type": "stream",
     "text": [
      "There are 23 chickens and 12 rabbits in the farm.\n"
     ]
    }
   ],
   "source": [
    "# Number of chicken -> c\n",
    "# Number of rabbit -> r\n",
    "# r + c = 35\n",
    "# 4r + 2c = 94\n",
    "\n",
    "for r in range(36):\n",
    "    c = 35 - r\n",
    "    if 4*r + 2*c == 94:\n",
    "        print(f\"There are {c} chickens and {r} rabbits in the farm.\")"
   ]
  },
  {
   "cell_type": "markdown",
   "id": "8896ae24-2596-4885-b535-dfbbb29d3ea6",
   "metadata": {
    "id": "8896ae24-2596-4885-b535-dfbbb29d3ea6"
   },
   "source": [
    "### Task 2\n",
    "Write a program to track the growing amount of investment over time. An initial deposit, called the principal amount, is made. Each year, the amount increased by a fixed percentage, called the annual rate of the return. For example, a principal amount of RM100 with an annual rate of return of 5% increases the ﬁrst year by RM5. The second year, the increase is 5% of the new amount RM105, which is RM5.25, and the new amount becomes RM110.25. The program prompts the user to enter an initial amount, an annual rate (percentage) of return, and a number of years. It then prints out the amount of investment, rounded to 2 decimal places at the end of each year for the specified number of years."
   ]
  },
  {
   "cell_type": "code",
   "execution_count": 1,
   "id": "b100444e-6193-4ba8-9cb1-3ac70cf7f802",
   "metadata": {
    "id": "b100444e-6193-4ba8-9cb1-3ac70cf7f802"
   },
   "outputs": [
    {
     "name": "stdin",
     "output_type": "stream",
     "text": [
      "Enter the initial investment:  10000\n",
      "Enter the annual rate (%):  5\n",
      "Enter the number of years to invest:  10\n"
     ]
    },
    {
     "name": "stdout",
     "output_type": "stream",
     "text": [
      "Initial investment: RM10000.00, annual rate: 5.00%, investment years: 10\n",
      "Year  1: RM  10500.00\n",
      "Year  2: RM  11025.00\n",
      "Year  3: RM  11576.25\n",
      "Year  4: RM  12155.06\n",
      "Year  5: RM  12762.82\n",
      "Year  6: RM  13400.96\n",
      "Year  7: RM  14071.00\n",
      "Year  8: RM  14774.55\n",
      "Year  9: RM  15513.28\n",
      "Year 10: RM  16288.95\n"
     ]
    }
   ],
   "source": [
    "invest = float(input(\"Enter the initial investment: \"))\n",
    "rate = float(input(\"Enter the annual rate (%): \"))\n",
    "years = int(input(\"Enter the number of years to invest: \"))\n",
    "\n",
    "print(f\"Initial investment: RM{invest:.2f}, annual rate: {rate:.2f}%, investment years: {years}\")\n",
    "\n",
    "for y in range(years):\n",
    "    invest = invest + invest * rate/100\n",
    "    print(f\"Year {y+1:>2}: RM{invest:>10.2f}\")"
   ]
  },
  {
   "cell_type": "markdown",
   "id": "f7f72a0c-a740-43a4-824f-22b48021a562",
   "metadata": {
    "id": "f7f72a0c-a740-43a4-824f-22b48021a562"
   },
   "source": [
    "### Task 3\n",
    "Write a program to read a set of temperature data (the monthly high temperatures in degree Celsius at Heathrow Airport for 1948 through 2016) from a file and then find some basic information: the highest and lowest temperatures, the mean (average) temperature, and the median temperature."
   ]
  },
  {
   "cell_type": "code",
   "execution_count": 2,
   "id": "fc897173-328c-4be1-b9e8-8d90ec9a7999",
   "metadata": {
    "id": "fc897173-328c-4be1-b9e8-8d90ec9a7999"
   },
   "outputs": [
    {
     "data": {
      "text/html": [
       "<div>\n",
       "<style scoped>\n",
       "    .dataframe tbody tr th:only-of-type {\n",
       "        vertical-align: middle;\n",
       "    }\n",
       "\n",
       "    .dataframe tbody tr th {\n",
       "        vertical-align: top;\n",
       "    }\n",
       "\n",
       "    .dataframe thead th {\n",
       "        text-align: right;\n",
       "    }\n",
       "</style>\n",
       "<table border=\"1\" class=\"dataframe\">\n",
       "  <thead>\n",
       "    <tr style=\"text-align: right;\">\n",
       "      <th></th>\n",
       "      <th>Temperature</th>\n",
       "    </tr>\n",
       "  </thead>\n",
       "  <tbody>\n",
       "    <tr>\n",
       "      <th>0</th>\n",
       "      <td>8.9</td>\n",
       "    </tr>\n",
       "    <tr>\n",
       "      <th>1</th>\n",
       "      <td>7.9</td>\n",
       "    </tr>\n",
       "    <tr>\n",
       "      <th>2</th>\n",
       "      <td>14.2</td>\n",
       "    </tr>\n",
       "    <tr>\n",
       "      <th>3</th>\n",
       "      <td>15.4</td>\n",
       "    </tr>\n",
       "    <tr>\n",
       "      <th>4</th>\n",
       "      <td>18.1</td>\n",
       "    </tr>\n",
       "    <tr>\n",
       "      <th>...</th>\n",
       "      <td>...</td>\n",
       "    </tr>\n",
       "    <tr>\n",
       "      <th>823</th>\n",
       "      <td>24.7</td>\n",
       "    </tr>\n",
       "    <tr>\n",
       "      <th>824</th>\n",
       "      <td>22.4</td>\n",
       "    </tr>\n",
       "    <tr>\n",
       "      <th>825</th>\n",
       "      <td>15.9</td>\n",
       "    </tr>\n",
       "    <tr>\n",
       "      <th>826</th>\n",
       "      <td>10.5</td>\n",
       "    </tr>\n",
       "    <tr>\n",
       "      <th>827</th>\n",
       "      <td>10.2</td>\n",
       "    </tr>\n",
       "  </tbody>\n",
       "</table>\n",
       "<p>828 rows × 1 columns</p>\n",
       "</div>"
      ],
      "text/plain": [
       "     Temperature\n",
       "0            8.9\n",
       "1            7.9\n",
       "2           14.2\n",
       "3           15.4\n",
       "4           18.1\n",
       "..           ...\n",
       "823         24.7\n",
       "824         22.4\n",
       "825         15.9\n",
       "826         10.5\n",
       "827         10.2\n",
       "\n",
       "[828 rows x 1 columns]"
      ]
     },
     "execution_count": 2,
     "metadata": {},
     "output_type": "execute_result"
    }
   ],
   "source": [
    "import pandas as pd\n",
    "df = pd.read_csv(\"https://raw.githubusercontent.com/wooihaw/datasets/main/Heathrow.txt\", header=None, names=['Temperature'])\n",
    "df"
   ]
  },
  {
   "cell_type": "code",
   "execution_count": 3,
   "id": "0104792b-f4d7-42df-8418-9f12f6571e44",
   "metadata": {
    "id": "0104792b-f4d7-42df-8418-9f12f6571e44"
   },
   "outputs": [
    {
     "data": {
      "text/plain": [
       "min        0.800000\n",
       "max       28.200000\n",
       "mean      14.848309\n",
       "median    14.700000\n",
       "Name: Temperature, dtype: float64"
      ]
     },
     "execution_count": 3,
     "metadata": {},
     "output_type": "execute_result"
    }
   ],
   "source": [
    "df[\"Temperature\"].agg([\"min\", \"max\", \"mean\", \"median\"])"
   ]
  },
  {
   "cell_type": "code",
   "execution_count": null,
   "id": "40cb94e0-6dc3-4a6c-b868-ef4fc6249b43",
   "metadata": {},
   "outputs": [],
   "source": []
  }
 ],
 "metadata": {
  "colab": {
   "include_colab_link": true,
   "provenance": []
  },
  "kernelspec": {
   "display_name": "Python [conda env:base] *",
   "language": "python",
   "name": "conda-base-py"
  },
  "language_info": {
   "codemirror_mode": {
    "name": "ipython",
    "version": 3
   },
   "file_extension": ".py",
   "mimetype": "text/x-python",
   "name": "python",
   "nbconvert_exporter": "python",
   "pygments_lexer": "ipython3",
   "version": "3.13.5"
  }
 },
 "nbformat": 4,
 "nbformat_minor": 5
}
